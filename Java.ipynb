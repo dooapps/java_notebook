{
 "cells": [
  {
   "cell_type": "code",
   "execution_count": 2,
   "metadata": {},
   "outputs": [
    {
     "name": "stdout",
     "output_type": "stream",
     "text": [
      "Testing Jupyter notebook with Java\n",
      "Notebook Dir\n"
     ]
    }
   ],
   "source": [
    "System.out.println(\"Testing Jupyter notebook with Java\");\n",
    "System.out.println(\"Notebook Dir\")"
   ]
  },
  {
   "cell_type": "code",
   "execution_count": 39,
   "metadata": {},
   "outputs": [],
   "source": [
    "import java.util.stream.IntStream;\n",
    "//Comment here\n",
    "//This line is only a comment"
   ]
  },
  {
   "cell_type": "code",
   "execution_count": 16,
   "metadata": {},
   "outputs": [
    {
     "data": {
      "text/plain": [
       "1100"
      ]
     },
     "execution_count": 16,
     "metadata": {},
     "output_type": "execute_result"
    }
   ],
   "source": [
    "int add(int param1, int param2) {\n",
    "    return param1 + param2;\n",
    "}\n",
    "\n",
    "add(500,600);"
   ]
  },
  {
   "cell_type": "code",
   "execution_count": 10,
   "metadata": {},
   "outputs": [
    {
     "data": {
      "text/plain": [
       "21"
      ]
     },
     "execution_count": 10,
     "metadata": {},
     "output_type": "execute_result"
    }
   ],
   "source": [
    "int centuryFromYear(int year) {\n",
    "    return 1 + (year - 1) / 100;\n",
    "}\n",
    "\n",
    "centuryFromYear(2021);"
   ]
  },
  {
   "cell_type": "code",
   "execution_count": 11,
   "metadata": {},
   "outputs": [
    {
     "data": {
      "text/plain": [
       "true"
      ]
     },
     "execution_count": 11,
     "metadata": {},
     "output_type": "execute_result"
    }
   ],
   "source": [
    "boolean checkPalindrome(String inputString) {\n",
    "    return inputString.equals(new StringBuilder(inputString).reverse().toString());\n",
    "}\n",
    "checkPalindrome(\"aabaa\");"
   ]
  },
  {
   "cell_type": "code",
   "execution_count": 41,
   "metadata": {},
   "outputs": [
    {
     "name": "stdout",
     "output_type": "stream",
     "text": [
      "7\n"
     ]
    }
   ],
   "source": [
    "int max = IntStream.of(3, 6, -2, -5, 7, 3)\n",
    "  .max()\n",
    "  .getAsInt(); // returns 7\n",
    "  \n",
    "System.out.println(max);"
   ]
  },
  {
   "cell_type": "code",
   "execution_count": 42,
   "metadata": {},
   "outputs": [
    {
     "data": {
      "text/plain": [
       "21"
      ]
     },
     "execution_count": 42,
     "metadata": {},
     "output_type": "execute_result"
    }
   ],
   "source": [
    "int adjacentElementsProduct(int[] inputArray) {\n",
    "    return IntStream.range(1, inputArray.length).map(i->inputArray[i]*inputArray[i-1]).max().getAsInt();}\n",
    "\n",
    "int[] intArray = new int[]{ 3, 6, -2, -5, 7, 3 }; \n",
    "adjacentElementsProduct(new int[]{ 3, 6, -2, -5, 7, 3 });"
   ]
  },
  {
   "cell_type": "code",
   "execution_count": 44,
   "metadata": {},
   "outputs": [
    {
     "data": {
      "text/plain": [
       "5"
      ]
     },
     "execution_count": 44,
     "metadata": {},
     "output_type": "execute_result"
    }
   ],
   "source": [
    "int shapeArea(int n) {\n",
    "  return (n*n)+( (n-1)*(n-1) ); \n",
    "}\n",
    "shapeArea(2) //returns 5"
   ]
  },
  {
   "cell_type": "code",
   "execution_count": 46,
   "metadata": {},
   "outputs": [
    {
     "data": {
      "text/plain": [
       "3"
      ]
     },
     "execution_count": 46,
     "metadata": {},
     "output_type": "execute_result"
    }
   ],
   "source": [
    "int makeArrayConsecutive2(int[] statues) {\n",
    "    Arrays.sort(statues);\n",
    "    return statues[statues.length-1] - statues[0] - statues.length + 1;}\n",
    "    \n",
    "\n",
    "makeArrayConsecutive2(new int[]{ 6, 2, 3, 8 }); // returns 3\n"
   ]
  },
  {
   "cell_type": "code",
   "execution_count": 47,
   "metadata": {},
   "outputs": [
    {
     "data": {
      "text/plain": [
       "false"
      ]
     },
     "execution_count": 47,
     "metadata": {},
     "output_type": "execute_result"
    }
   ],
   "source": [
    "boolean almostIncreasingSequence(int[] sequence) {\n",
    "    int numErr = 0;\n",
    "    for (int i = 0; i < sequence.length - 1; i++) {\n",
    "        if (sequence[i] - sequence[i+1] >= 0) {\n",
    "            numErr += 1;\n",
    "            if (i - 1 >= 0 && i + 2 <= sequence.length - 1\n",
    "               && sequence[i] - sequence[i+2] >= 0\n",
    "               && sequence[i-1] - sequence[i+1] >= 0) {\n",
    "                return false;\n",
    "            }\n",
    "        }\n",
    "    }\n",
    "    \n",
    "    return numErr <= 1;\n",
    "}\n",
    "almostIncreasingSequence(new int[]{ 1, 3, 2, 1}) //returns false"
   ]
  },
  {
   "cell_type": "code",
   "execution_count": 51,
   "metadata": {},
   "outputs": [
    {
     "data": {
      "text/plain": [
       "9"
      ]
     },
     "execution_count": 51,
     "metadata": {},
     "output_type": "execute_result"
    }
   ],
   "source": [
    "int matrixElementsSum(int[][] matrix) {\n",
    "    int s = 0;\n",
    "    for (int c = 0; c < matrix[0].length; ++c) \n",
    "        for (int r = 0; r < matrix.length; ++r) {\n",
    "            if (matrix[r][c] > 0) \n",
    "                s+=matrix[r][c];\n",
    "            else break;\n",
    "        }\n",
    "    return s;\n",
    "}\n",
    " \n",
    " int[][] array_name = {\n",
    "                             {0,1,1,2}, \n",
    "                             {0,5,0,0},\n",
    "                             {2,0,3,3}\n",
    "                           };\n",
    "\n",
    "matrixElementsSum(array_name)"
   ]
  },
  {
   "cell_type": "code",
   "execution_count": null,
   "metadata": {},
   "outputs": [],
   "source": []
  }
 ],
 "metadata": {
  "kernelspec": {
   "display_name": "Java",
   "language": "java",
   "name": "java"
  },
  "language_info": {
   "codemirror_mode": "java",
   "file_extension": ".jshell",
   "mimetype": "text/x-java-source",
   "name": "Java",
   "pygments_lexer": "java",
   "version": "11.0.11+9-Ubuntu-0ubuntu2.20.04"
  }
 },
 "nbformat": 4,
 "nbformat_minor": 4
}
